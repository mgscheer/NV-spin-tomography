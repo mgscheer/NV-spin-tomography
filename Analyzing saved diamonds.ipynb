{
 "cells": [
  {
   "cell_type": "markdown",
   "metadata": {},
   "source": [
    "This notebook shows the analysis of the 29 diamonds whos results are in the thesis."
   ]
  },
  {
   "cell_type": "code",
   "execution_count": 1,
   "metadata": {
    "collapsed": false
   },
   "outputs": [],
   "source": [
    "%load_ext autoreload\n",
    "%autoreload 1\n",
    "import numpy as np\n",
    "import matplotlib.pyplot as plt\n",
    "import qutip as qt\n",
    "import os,sys,inspect\n",
    "import sklearn as sk\n",
    "currentdir = os.path.dirname(os.path.abspath(inspect.getfile(inspect.currentframe())))\n",
    "parentdir = os.path.dirname(currentdir)\n",
    "sys.path.insert(0,parentdir) \n",
    "%aimport analysis\n",
    "%aimport learning\n",
    "%aimport NV_generator"
   ]
  },
  {
   "cell_type": "code",
   "execution_count": 2,
   "metadata": {
    "collapsed": false
   },
   "outputs": [],
   "source": [
    "diamonds = []\n",
    "num_diamonds = 29\n",
    "for diamond_num in range(num_diamonds):\n",
    "    diamond = learning.load_obj(\"diamonds/diamond_\" + str(diamond_num))\n",
    "    diamonds.append(diamond)"
   ]
  },
  {
   "cell_type": "code",
   "execution_count": 3,
   "metadata": {
    "collapsed": true
   },
   "outputs": [],
   "source": [
    "B_field = 0.0403555 # Teslas\n",
    "gam_c = 67.262 * 10 ** 6 # Gyromagnetic ratio for a single c13 nucleus in rad s-1 T-1\n",
    "ms = 1\n",
    "omega_larmor = -1 * ms * gam_c * B_field"
   ]
  },
  {
   "cell_type": "code",
   "execution_count": 99,
   "metadata": {
    "collapsed": false,
    "scrolled": false
   },
   "outputs": [
    {
     "name": "stdout",
     "output_type": "stream",
     "text": [
      "diamond_ind:  0\n",
      "dips measured:  374\n",
      "num_removed:  4\n",
      "correct:  19 incorrect:  6\n",
      "diamond_ind:  1\n",
      "dips measured:  429\n",
      "num_removed:  0\n",
      "correct:  21 incorrect:  4\n",
      "diamond_ind:  2\n",
      "dips measured:  431\n",
      "num_removed:  0\n",
      "correct:  16 incorrect:  9\n",
      "diamond_ind:  3\n",
      "dips measured:  357\n",
      "num_removed:  1\n",
      "correct:  14 incorrect:  2\n",
      "diamond_ind:  4\n",
      "dips measured:  426\n",
      "num_removed:  1\n",
      "correct:  11 incorrect:  2\n",
      "diamond_ind:  5\n",
      "dips measured:  406\n",
      "num_removed:  1\n",
      "correct:  22 incorrect:  3\n",
      "diamond_ind:  6\n",
      "dips measured:  406\n",
      "num_removed:  0\n",
      "correct:  14 incorrect:  2\n",
      "diamond_ind:  7\n",
      "dips measured:  375\n",
      "num_removed:  0\n",
      "correct:  14 incorrect:  1\n",
      "diamond_ind:  8\n",
      "dips measured:  390\n",
      "num_removed:  0\n",
      "correct:  16 incorrect:  1\n",
      "diamond_ind:  9\n",
      "dips measured:  445\n",
      "num_removed:  0\n",
      "correct:  18 incorrect:  7\n",
      "diamond_ind:  10\n",
      "dips measured:  388\n",
      "num_removed:  0\n",
      "correct:  10 incorrect:  0\n",
      "diamond_ind:  11\n",
      "dips measured:  385\n",
      "num_removed:  0\n",
      "correct:  10 incorrect:  3\n",
      "diamond_ind:  12\n",
      "dips measured:  375\n",
      "num_removed:  0\n",
      "correct:  9 incorrect:  1\n",
      "diamond_ind:  13\n",
      "dips measured:  402\n",
      "num_removed:  0\n",
      "correct:  12 incorrect:  1\n",
      "diamond_ind:  14\n",
      "dips measured:  397\n",
      "num_removed:  0\n",
      "correct:  18 incorrect:  0\n",
      "diamond_ind:  15\n",
      "dips measured:  379\n",
      "num_removed:  1\n",
      "correct:  13 incorrect:  2\n",
      "diamond_ind:  16\n",
      "dips measured:  372\n",
      "num_removed:  0\n",
      "correct:  15 incorrect:  3\n",
      "diamond_ind:  17\n",
      "dips measured:  387\n",
      "num_removed:  0\n",
      "correct:  14 incorrect:  4\n",
      "diamond_ind:  18\n",
      "dips measured:  407\n",
      "num_removed:  3\n",
      "correct:  22 incorrect:  2\n",
      "diamond_ind:  19\n",
      "dips measured:  401\n",
      "num_removed:  1\n",
      "correct:  12 incorrect:  4\n",
      "diamond_ind:  20\n",
      "dips measured:  375\n",
      "num_removed:  1\n",
      "correct:  13 incorrect:  3\n",
      "diamond_ind:  21\n",
      "dips measured:  381\n",
      "num_removed:  1\n",
      "correct:  23 incorrect:  1\n",
      "diamond_ind:  22\n",
      "dips measured:  433\n",
      "num_removed:  5\n",
      "correct:  13 incorrect:  4\n",
      "diamond_ind:  23\n",
      "dips measured:  368\n",
      "num_removed:  0\n",
      "correct:  9 incorrect:  0\n",
      "diamond_ind:  24\n",
      "dips measured:  337\n",
      "num_removed:  1\n",
      "correct:  12 incorrect:  3\n",
      "diamond_ind:  25\n",
      "dips measured:  405\n",
      "num_removed:  8\n",
      "correct:  26 incorrect:  7\n",
      "diamond_ind:  26\n",
      "dips measured:  378\n",
      "num_removed:  0\n",
      "correct:  11 incorrect:  1\n",
      "diamond_ind:  27\n",
      "dips measured:  390\n",
      "num_removed:  2\n",
      "correct:  15 incorrect:  2\n",
      "diamond_ind:  28\n",
      "dips measured:  374\n",
      "num_removed:  2\n",
      "correct:  13 incorrect:  1\n"
     ]
    },
    {
     "name": "stderr",
     "output_type": "stream",
     "text": [
      "analysis.py:61: RuntimeWarning: invalid value encountered in sqrt\n",
      "  B = np.sqrt((1 - mz ** 2)) * omega_tilde\n"
     ]
    }
   ],
   "source": [
    "guess_scaler = learning.load_obj(\"classifiers/scaler_svm_rbf_di3220_29diamonds_cxABe\")#(\"classifiers/scaler_svm_rbfguess_limited_3220_C1_29diamonds\")scaler_svm_linear_di3220_29diamond\n",
    "guess_clf = learning.load_obj(\"classifiers/clf_svm_rbf_di3220_29diamonds_cxABe\")#(\"classifiers/clf_svm_rbfguess_limited_3220_C1_29diamonds\")\n",
    "num_correct_list, num_incorrect_list = [], []\n",
    "As_list, Bs_list = [], []\n",
    "guess_As_list, guess_Bs_list = [], []\n",
    "dips_measured = []\n",
    "for diamond_ind in range(len(diamonds)):\n",
    "    print \"diamond_ind: \", diamond_ind\n",
    "    diamond = diamonds[diamond_ind]\n",
    "    tau = diamond[\"tau\"]\n",
    "    data = diamond[\"data\"]\n",
    "    N = diamond[\"N\"]\n",
    "    dip_inds = diamond[\"dip_inds\"]\n",
    "    windows = diamond[\"windows\"]\n",
    "    min_dip_ind = 3220\n",
    "    measure_dii = filter(lambda dii: dip_inds[dii] >= min_dip_ind, range(len(dip_inds)))\n",
    "    print \"dips measured: \", len(measure_dii)\n",
    "    dips_measured.append(len(measure_dii))\n",
    "    spin_dict = {}\n",
    "    for dii in measure_dii:\n",
    "        if diamond[\"good_fits\"][dii]:\n",
    "            dip_ind = dip_inds[dii]\n",
    "            res_tau = tau[dip_ind]\n",
    "            for phi, x in zip(diamond[\"phis_list\"][dii], diamond[\"xs_list\"][dii]):\n",
    "                for omega_tilde, cosphi in analysis.calc_omega_tilde(phi, x, res_tau, omega_larmor):\n",
    "                    A, B = analysis.calc_A_B(cosphi, res_tau, omega_larmor, omega_tilde)\n",
    "                    if analysis.valid_A_B(A, B):\n",
    "                        if (dip_ind, phi, x) in spin_dict:\n",
    "                            spin_dict[(dip_ind, phi, x)] += [(A, B, cosphi)]\n",
    "                        else:\n",
    "                            spin_dict[(dip_ind, phi, x)] = [(A, B, cosphi)]\n",
    "    def guess_classifier(features):\n",
    "        return guess_clf.predict(guess_scaler.transform([features]))\n",
    "    guess_As, guess_Bs, dataerrs, _, _, _, _ = analysis.choose_spin_guesses(spin_dict, N, omega_larmor, tau, data,\n",
    "                                                                guess_classifier, x_min = 1, error_fun = analysis.squared_error)\n",
    "    cluster_As, cluster_Bs, cluster_dataerrs = analysis.cluster_spin_guesses(guess_As, guess_Bs, dataerrs, eps = .075, min_samples = 1)\n",
    "    As, Bs, num_remove = cluster_As, cluster_Bs, 1\n",
    "    while num_remove <= 2:\n",
    "        As, Bs, num_remove = analysis.remove_spins(As, Bs, N, omega_larmor, tau, data, num_remove = num_remove, error_fun = analysis.squared_error)\n",
    "    As_list.append(As)\n",
    "    Bs_list.append(Bs)\n",
    "    guess_As_list.append(guess_As)\n",
    "    guess_Bs_list.append(guess_Bs)\n",
    "    \n",
    "    print \"num_removed: \", len(cluster_As) - len(As)\n",
    "    num_correct = 0\n",
    "    spins = set(zip(diamond[\"A\"], np.abs(diamond[\"B\"])))\n",
    "    for A, B in zip(As, np.abs(Bs)):\n",
    "        for spin in spins:\n",
    "            if learning.is_fit(A, B, spin, A_acc = .5, B_acc = 2):\n",
    "                num_correct = num_correct + 1\n",
    "                spins.remove(spin)\n",
    "                break\n",
    "    num_incorrect = len(As) - num_correct\n",
    "    num_correct_list.append(num_correct)\n",
    "    num_incorrect_list.append(num_incorrect)\n",
    "    print \"correct: \", num_correct, \"incorrect: \", len(As) - num_correct"
   ]
  },
  {
   "cell_type": "code",
   "execution_count": 100,
   "metadata": {
    "collapsed": false
   },
   "outputs": [
    {
     "data": {
      "text/plain": [
       "(15.0, 2.7241379310344827)"
      ]
     },
     "execution_count": 100,
     "metadata": {},
     "output_type": "execute_result"
    }
   ],
   "source": [
    "np.mean(num_correct_list), np.mean(num_incorrect_list)"
   ]
  },
  {
   "cell_type": "code",
   "execution_count": 2,
   "metadata": {
    "collapsed": false
   },
   "outputs": [],
   "source": [
    "#results_dict = {\"As_list\" : As_list, \"Bs_list\" : Bs_list,\n",
    "#                \"num_correct_list\" : num_correct_list, \"num_incorrect_list\" : num_incorrect_list, \"dips_measured\" : dips_measured}\n",
    "#learning.store_obj(results_dict, \"results/results_di3220_29diamonds_cxABe_x1\")\n",
    "results_dict = learning.load_obj(\"results/results_di3220_29diamonds_cxABe_x1\")\n",
    "As_list = results_dict[\"As_list\"]\n",
    "Bs_list = results_dict[\"Bs_list\"]\n",
    "num_correct_list = results_dict[\"num_correct_list\"]\n",
    "num_incorrect_list = results_dict[\"num_incorrect_list\"]\n",
    "dips_measured = results_dict[\"dips_measured\"]\n",
    "#print np.mean(results_dict[\"num_correct_list\"])#, num_correct_list\n",
    "#print results_dict[\"num_incorrect_list\"]#, num_incorrect_list\n",
    "#As_list = results_dict[\"As_list\"]\n",
    "#Bs_list = results_dict[\"Bs_list\"]"
   ]
  },
  {
   "cell_type": "code",
   "execution_count": 5,
   "metadata": {
    "collapsed": false
   },
   "outputs": [
    {
     "data": {
      "text/plain": [
       "55298.068965517239"
      ]
     },
     "execution_count": 5,
     "metadata": {},
     "output_type": "execute_result"
    }
   ],
   "source": [
    "np.mean(np.array(dips_measured) * 128 + 5100)"
   ]
  },
  {
   "cell_type": "code",
   "execution_count": 83,
   "metadata": {
    "collapsed": false
   },
   "outputs": [
    {
     "data": {
      "image/png": "[encoded data removed]",
      "text/plain": [
       "<matplotlib.figure.Figure at 0x10eff0850>"
      ]
     },
     "metadata": {},
     "output_type": "display_data"
    }
   ],
   "source": [
    "%matplotlib inline\n",
    "diamond_ind = 21\n",
    "plt.figure(figsize=(20,10))\n",
    "plt.title(\"Fitted As and Bs\")\n",
    "plt.xlabel(\"A/(2 * pi * 1e3)\")\n",
    "plt.ylabel(\"B/(2 * pi * 1e3)\")\n",
    "plt.scatter(diamonds[diamond_ind][\"A\"]/analysis.mag, np.abs(diamonds[diamond_ind][\"B\"])/analysis.mag, c='b', marker = 'o', s = 50, label = 'true')\n",
    "plt.scatter(As_list[diamond_ind]/analysis.mag, np.abs(Bs_list[diamond_ind])/analysis.mag, c='r', marker = 'x', s = 50, label = 'fit')\n",
    "plt.legend(loc=2)\n",
    "plt.show()"
   ]
  }
 ],
 "metadata": {
  "kernelspec": {
   "display_name": "Python 2",
   "language": "python",
   "name": "python2"
  },
  "language_info": {
   "codemirror_mode": {
    "name": "ipython",
    "version": 2
   },
   "file_extension": ".py",
   "mimetype": "text/x-python",
   "name": "python",
   "nbconvert_exporter": "python",
   "pygments_lexer": "ipython2",
   "version": "2.7.11"
  }
 },
 "nbformat": 4,
 "nbformat_minor": 0
}
