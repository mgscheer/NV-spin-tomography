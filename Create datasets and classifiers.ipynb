{
 "cells": [
  {
   "cell_type": "markdown",
   "metadata": {},
   "source": [
    "This notebook can be used to create new diamond datasets, new datasets for training the svm, and also for training the svm. It also has code for creating the background spins used in the last step of the code."
   ]
  },
  {
   "cell_type": "code",
   "execution_count": 1,
   "metadata": {
    "collapsed": true
   },
   "outputs": [],
   "source": [
    "%load_ext autoreload\n",
    "%autoreload 1\n",
    "import numpy as np\n",
    "import matplotlib.pyplot as plt\n",
    "import qutip as qt\n",
    "import os,sys,inspect\n",
    "currentdir = os.path.dirname(os.path.abspath(inspect.getfile(inspect.currentframe())))\n",
    "parentdir = os.path.dirname(currentdir)\n",
    "sys.path.insert(0,parentdir) \n",
    "%aimport analysis\n",
    "%aimport learning\n",
    "%aimport NV_generator"
   ]
  },
  {
   "cell_type": "code",
   "execution_count": 2,
   "metadata": {
    "collapsed": true
   },
   "outputs": [],
   "source": [
    "B_field = 0.0403555 # Teslas\n",
    "gam_c = 67.262 * 10 ** 6 # Gyromagnetic ratio for a single c13 nucleus in rad s-1 T-1\n",
    "ms = 1\n",
    "omega_larmor = -1 * ms * gam_c * B_field"
   ]
  },
  {
   "cell_type": "code",
   "execution_count": 3,
   "metadata": {
    "collapsed": true
   },
   "outputs": [],
   "source": [
    "num_diamonds = 29"
   ]
  },
  {
   "cell_type": "code",
   "execution_count": 4,
   "metadata": {
    "collapsed": false,
    "scrolled": true
   },
   "outputs": [],
   "source": [
    "if False:\n",
    "    learning.create_diamonds(range(num_diamonds, 2 * num_diamonds), omega_larmor, num_spins = 450)"
   ]
  },
  {
   "cell_type": "code",
   "execution_count": 66,
   "metadata": {
    "collapsed": false,
    "scrolled": true
   },
   "outputs": [
    {
     "name": "stdout",
     "output_type": "stream",
     "text": [
      "loading diamond  0\n",
      "loading diamond  1\n",
      "loading diamond  2\n",
      "loading diamond  3\n",
      "loading diamond  4\n",
      "loading diamond  5\n",
      "loading diamond  6\n",
      "loading diamond  7\n",
      "loading diamond  8\n",
      "loading diamond  9\n",
      "loading diamond  10\n",
      "loading diamond  11\n",
      "loading diamond  12\n",
      "loading diamond  13\n",
      "loading diamond  14\n",
      "loading diamond  15\n",
      "loading diamond  16\n",
      "loading diamond  17\n",
      "loading diamond  18\n",
      "loading diamond  19\n",
      "loading diamond  20\n",
      "loading diamond  21\n",
      "loading diamond  22\n",
      "loading diamond  23\n",
      "loading diamond  24\n",
      "loading diamond  25\n",
      "loading diamond  26\n",
      "loading diamond  27\n",
      "loading diamond  28\n",
      "diamonds loaded\n",
      "diamond_ind:  0\n",
      "diamond_ind:  1\n",
      "diamond_ind:  2\n",
      "diamond_ind:  3\n",
      "diamond_ind:  4\n",
      "diamond_ind:  5\n",
      "diamond_ind:  6\n",
      "diamond_ind:  7\n",
      "diamond_ind:  8\n",
      "diamond_ind:  9\n",
      "diamond_ind:  10\n",
      "diamond_ind:  11\n",
      "diamond_ind:  12\n",
      "diamond_ind:  13\n",
      "diamond_ind:  14\n",
      "diamond_ind:  15\n",
      "diamond_ind:  16\n",
      "diamond_ind:  17\n",
      "diamond_ind:  18\n",
      "diamond_ind:  19\n",
      "diamond_ind:  20\n",
      "diamond_ind:  21\n",
      "diamond_ind:  22\n",
      "diamond_ind:  23\n",
      "diamond_ind:  24\n",
      "diamond_ind:  25\n",
      "diamond_ind:  26\n",
      "diamond_ind:  27\n",
      "diamond_ind:  28\n",
      "create dataset\n",
      "store dataset\n"
     ]
    },
    {
     "name": "stderr",
     "output_type": "stream",
     "text": [
      "analysis.py:61: RuntimeWarning: invalid value encountered in sqrt\n",
      "  B = np.sqrt((1 - mz ** 2)) * omega_tilde\n"
     ]
    }
   ],
   "source": [
    "diamonds = []\n",
    "for diamond_num in range(num_diamonds):\n",
    "    print \"loading diamond \", diamond_num\n",
    "    diamond = learning.load_obj(\"diamonds/diamond_\" + str(diamond_num))\n",
    "    diamonds.append(diamond)\n",
    "print \"diamonds loaded\"\n",
    "suffix = \"_di3220_29diamonds_cxABe\"\n",
    "if False:\n",
    "    _ = learning.guess_dataset(diamonds, omega_larmor, pickle = True, training_percent = .5, min_dip_ind = 3220, suffix = suffix)"
   ]
  },
  {
   "cell_type": "code",
   "execution_count": 6,
   "metadata": {
    "collapsed": false
   },
   "outputs": [
    {
     "name": "stdout",
     "output_type": "stream",
     "text": [
      "train svm\n",
      "training score:  0.913136857177\n",
      "testing score:  0.909582799373\n"
     ]
    }
   ],
   "source": [
    "suffix = \"_di3220_29diamonds_cxABe\"\n",
    "dataset = learning.load_obj(\"datasets/guess_dataset\" + suffix)\n",
    "if False:\n",
    "    print \"train svm\"\n",
    "    scaler, clf = learning.train_svm(dataset[\"train_X\"], dataset[\"train_Y\"], dataset[\"test_X\"], dataset[\"test_Y\"],\n",
    "                                 kernel='linear', verbose = True, pickle = True, suffix = suffix)"
   ]
  },
  {
   "cell_type": "code",
   "execution_count": 7,
   "metadata": {
    "collapsed": false
   },
   "outputs": [
    {
     "data": {
      "text/plain": [
       "(array([[-0.36175828,  0.95493479,  0.00244094,  0.03401229, -0.02430468]]),\n",
       " array([-0.94027893]))"
      ]
     },
     "execution_count": 7,
     "metadata": {},
     "output_type": "execute_result"
    }
   ],
   "source": [
    "clf.coef_, clf.intercept_"
   ]
  },
  {
   "cell_type": "code",
   "execution_count": 26,
   "metadata": {
    "collapsed": false
   },
   "outputs": [],
   "source": [
    "A_background = 4 * analysis.mag * (np.random.rand(400) - .5)\n",
    "B_background = 2 * analysis.mag * (np.random.rand(400))\n",
    "background_dict = {\"A_background\" : A_background, \"B_background\" : B_background}\n",
    "if False:\n",
    "    learning.store_obj(background_dict, \"background_A_B\")"
   ]
  }
 ],
 "metadata": {
  "kernelspec": {
   "display_name": "Python 2",
   "language": "python",
   "name": "python2"
  },
  "language_info": {
   "codemirror_mode": {
    "name": "ipython",
    "version": 2
   },
   "file_extension": ".py",
   "mimetype": "text/x-python",
   "name": "python",
   "nbconvert_exporter": "python",
   "pygments_lexer": "ipython2",
   "version": "2.7.11"
  }
 },
 "nbformat": 4,
 "nbformat_minor": 0
}
